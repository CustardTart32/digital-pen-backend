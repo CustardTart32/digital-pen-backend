{
 "cells": [
  {
   "cell_type": "code",
   "execution_count": 2,
   "source": [
    "import firebase_admin\n",
    "from firebase_admin import credentials\n",
    "from firebase_admin import firestore\n",
    "import glob\n",
    "\n",
    "json_file = glob.glob(\"*.json\")[0]\n",
    "\n",
    "cred = credentials.Certificate(json_file)\n",
    "firebase_admin.initialize_app(cred, {\n",
    "    'projectId': 'digital-pen-746a6',\n",
    "})\n",
    "\n",
    "db = firestore.client()"
   ],
   "outputs": [],
   "metadata": {}
  },
  {
   "cell_type": "code",
   "execution_count": 7,
   "source": [
    "responses_ref = db.collection(\"dataset_responses\")\n",
    "\n",
    "for f in glob.glob(\"../data/datasets/*1*.inkml\"):\n",
    "    file_id = f.split(\"/\")[3].split(\".\")[0]\n",
    "\n",
    "    print(\"Initialising\", file_id)\n",
    "\n",
    "    doc_ref = responses_ref.document(file_id)\n",
    "\n",
    "    doc_ref.set({\n",
    "        'yea': 0, \n",
    "        'nay': 0,  \n",
    "        '1': 0, \n",
    "        '2': 0, \n",
    "        '3': 0, \n",
    "        '4': 0\n",
    "    })"
   ],
   "outputs": [
    {
     "output_type": "stream",
     "name": "stdout",
     "text": [
      "Initialising 001f\n",
      "Initialising 001g\n",
      "Initialising 001\n",
      "Initialising 001e\n",
      "Initialising 001a\n",
      "Initialising 001b\n",
      "Initialising 001c\n",
      "Initialising 001d\n"
     ]
    }
   ],
   "metadata": {}
  }
 ],
 "metadata": {
  "orig_nbformat": 4,
  "language_info": {
   "name": "python",
   "version": "3.9.5",
   "mimetype": "text/x-python",
   "codemirror_mode": {
    "name": "ipython",
    "version": 3
   },
   "pygments_lexer": "ipython3",
   "nbconvert_exporter": "python",
   "file_extension": ".py"
  },
  "kernelspec": {
   "name": "python3",
   "display_name": "Python 3.9.5 64-bit ('thesis': conda)"
  },
  "interpreter": {
   "hash": "bdfa44e515ad2dfdf958f5c46409d5e0ce927834add3da4a8c08919a7be99c0c"
  }
 },
 "nbformat": 4,
 "nbformat_minor": 2
}