{
 "cells": [
  {
   "cell_type": "code",
   "execution_count": 1,
   "metadata": {},
   "outputs": [
    {
     "name": "stdout",
     "output_type": "stream",
     "text": [
      "Requirement already satisfied: fastdtw in /home/cuthbert/anaconda3/envs/thesis/lib/python3.9/site-packages (0.3.4)\n",
      "Requirement already satisfied: numpy in /home/cuthbert/anaconda3/envs/thesis/lib/python3.9/site-packages (from fastdtw) (1.20.2)\n"
     ]
    }
   ],
   "source": [
    "!pip install fastdtw\n",
    "\n",
    "import numpy as np \n",
    "from scipy.spatial.distance import euclidean\n",
    "from fastdtw import fastdtw, dtw"
   ]
  },
  {
   "cell_type": "code",
   "execution_count": 2,
   "metadata": {},
   "outputs": [],
   "source": [
    "%store -r dataset_series\n",
    "%store -r digital_ink"
   ]
  },
  {
   "cell_type": "code",
   "execution_count": 3,
   "metadata": {},
   "outputs": [
    {
     "name": "stdout",
     "output_type": "stream",
     "text": [
      "(3952, 2)\n",
      "(1335, 2)\n"
     ]
    }
   ],
   "source": [
    "dataset = np.array([dataset_series[\"x\"], dataset_series[\"y\"]])\n",
    "dataset = np.swapaxes(dataset, 0, 1)\n",
    "\n",
    "ink = np.array([digital_ink[\"x\"], digital_ink[\"y\"],])\n",
    "ink = np.swapaxes(ink, 0, 1)\n",
    "\n",
    "print(np.shape(dataset))\n",
    "print(np.shape(ink))"
   ]
  },
  {
   "cell_type": "code",
   "execution_count": 4,
   "metadata": {},
   "outputs": [
    {
     "name": "stdout",
     "output_type": "stream",
     "text": [
      "1634.5065455509894\n",
      "1019.1329267369531\n"
     ]
    }
   ],
   "source": [
    "distance, path = fastdtw(dataset, ink, dist=euclidean)\n",
    "print(distance)\n",
    "\n",
    "distance, path = dtw(dataset, ink, dist=euclidean)\n",
    "print(distance)"
   ]
  }
 ],
 "metadata": {
  "interpreter": {
   "hash": "83f38942cf46a3ef9427c452a2ff832c9204a5702ade476fac2e574c1064f3a2"
  },
  "kernelspec": {
   "display_name": "Python 3.9.5 64-bit ('thesis': conda)",
   "name": "python3"
  },
  "language_info": {
   "codemirror_mode": {
    "name": "ipython",
    "version": 3
   },
   "file_extension": ".py",
   "mimetype": "text/x-python",
   "name": "python",
   "nbconvert_exporter": "python",
   "pygments_lexer": "ipython3",
   "version": "3.9.5"
  },
  "orig_nbformat": 4
 },
 "nbformat": 4,
 "nbformat_minor": 2
}
