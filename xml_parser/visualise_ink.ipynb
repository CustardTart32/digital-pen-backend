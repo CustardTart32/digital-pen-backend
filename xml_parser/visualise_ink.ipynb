{
 "cells": [
  {
   "cell_type": "code",
   "execution_count": null,
   "source": [
    "import json \n",
    "import matplotlib.pyplot as plt\n",
    "\n",
    "with open(\"ink.json\") as f:\n",
    "    ink = json.load(f)"
   ],
   "outputs": [],
   "metadata": {}
  },
  {
   "cell_type": "code",
   "execution_count": null,
   "source": [
    "plt.plot(ink[\"x\"], ink[\"y\"])\n",
    "plt.show()"
   ],
   "outputs": [],
   "metadata": {}
  }
 ],
 "metadata": {
  "orig_nbformat": 4,
  "language_info": {
   "name": "python"
  }
 },
 "nbformat": 4,
 "nbformat_minor": 2
}