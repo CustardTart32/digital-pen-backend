{
 "cells": [
  {
   "cell_type": "code",
   "execution_count": null,
   "metadata": {},
   "outputs": [],
   "source": [
    "import firebase_admin\n",
    "from firebase_admin import credentials\n",
    "from firebase_admin import auth\n",
    "import glob\n",
    "\n",
    "json_file = glob.glob(\"*.json\")[0]\n",
    "\n",
    "cred = credentials.Certificate(json_file)\n",
    "firebase_admin.initialize_app(cred, {\n",
    "    'projectId': 'digital-pen-746a6',\n",
    "})"
   ]
  },
  {
   "cell_type": "code",
   "execution_count": null,
   "metadata": {},
   "outputs": [],
   "source": [
    "users = []\n",
    "\n",
    "for user in auth.list_users().iterate_all():\n",
    "    users.append(user.uid)\n",
    "\n",
    "print(users)"
   ]
  },
  {
   "cell_type": "code",
   "execution_count": null,
   "metadata": {},
   "outputs": [],
   "source": [
    "result = auth.delete_users(users)\n",
    "\n",
    "print('Successfully deleted {0} users'.format(result.success_count))\n",
    "print('Failed to delete {0} users'.format(result.failure_count))\n",
    "for err in result.errors:\n",
    "    print('error #{0}, reason: {1}'.format(result.index, result.reason))"
   ]
  }
 ],
 "metadata": {
  "language_info": {
   "name": "python"
  },
  "orig_nbformat": 4
 },
 "nbformat": 4,
 "nbformat_minor": 2
}
