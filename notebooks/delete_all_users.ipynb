{
 "cells": [
  {
   "cell_type": "code",
   "execution_count": 1,
   "metadata": {},
   "outputs": [
    {
     "data": {
      "text/plain": [
       "<firebase_admin.App at 0x7f0e5cc76490>"
      ]
     },
     "execution_count": 1,
     "metadata": {},
     "output_type": "execute_result"
    }
   ],
   "source": [
    "import firebase_admin\n",
    "from firebase_admin import credentials\n",
    "from firebase_admin import auth\n",
    "import glob\n",
    "\n",
    "json_file = glob.glob(\"*.json\")[0]\n",
    "\n",
    "cred = credentials.Certificate(json_file)\n",
    "firebase_admin.initialize_app(cred, {\n",
    "    'projectId': 'digital-pen-746a6',\n",
    "})"
   ]
  },
  {
   "cell_type": "code",
   "execution_count": 2,
   "metadata": {},
   "outputs": [
    {
     "name": "stdout",
     "output_type": "stream",
     "text": [
      "['6omSZx5aJpaN5AgRsjSgfsWfxo02', 'EHbd0k1kE7cOvGr8o2h23TRmXZ73', 'O2BLIdm6YNRV6t8uARAzlzVEyOC3']\n"
     ]
    }
   ],
   "source": [
    "users = []\n",
    "\n",
    "for user in auth.list_users().iterate_all():\n",
    "    users.append(user.uid)\n",
    "\n",
    "print(users)"
   ]
  },
  {
   "cell_type": "code",
   "execution_count": 3,
   "metadata": {},
   "outputs": [
    {
     "name": "stdout",
     "output_type": "stream",
     "text": [
      "Successfully deleted 3 users\n",
      "Failed to delete 0 users\n"
     ]
    }
   ],
   "source": [
    "result = auth.delete_users(users)\n",
    "\n",
    "print('Successfully deleted {0} users'.format(result.success_count))\n",
    "print('Failed to delete {0} users'.format(result.failure_count))\n",
    "for err in result.errors:\n",
    "    print('error #{0}, reason: {1}'.format(result.index, result.reason))"
   ]
  },
  {
   "cell_type": "code",
   "execution_count": null,
   "metadata": {},
   "outputs": [],
   "source": []
  }
 ],
 "metadata": {
  "interpreter": {
   "hash": "83f38942cf46a3ef9427c452a2ff832c9204a5702ade476fac2e574c1064f3a2"
  },
  "kernelspec": {
   "display_name": "Python 3.9.5 64-bit ('thesis': conda)",
   "name": "python3"
  },
  "language_info": {
   "codemirror_mode": {
    "name": "ipython",
    "version": 3
   },
   "file_extension": ".py",
   "mimetype": "text/x-python",
   "name": "python",
   "nbconvert_exporter": "python",
   "pygments_lexer": "ipython3",
   "version": "3.9.5"
  },
  "orig_nbformat": 4
 },
 "nbformat": 4,
 "nbformat_minor": 2
}
