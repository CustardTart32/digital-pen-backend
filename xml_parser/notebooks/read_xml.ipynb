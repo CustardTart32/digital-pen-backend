{
 "cells": [
  {
   "cell_type": "code",
   "execution_count": 2,
   "id": "7e9c3ec5-3f8e-40df-abc9-cb8b52421491",
   "metadata": {},
   "outputs": [],
   "source": [
    "import xml.etree.ElementTree as ET\n",
    "import os\n",
    "import glob\n",
    "import re\n",
    "import matplotlib.pyplot as plt\n",
    "import numpy as np"
   ]
  },
  {
   "cell_type": "code",
   "execution_count": 40,
   "id": "727686d0-3f9b-49ee-acf9-595c7dbfcf0c",
   "metadata": {},
   "outputs": [],
   "source": [
    "# Returns list of dictionaries containing words and their corresponding references\n",
    "# The first layer of lists contains individual lines of text \n",
    "# The second layer of lists contains individual words in each line of text \n",
    "#\n",
    "# words_arr: \n",
    "# [[{word : \"And\", refs: [\"t0\", \"t1\"]} , {word: \"He\", refs: [\"t2\", \"t3\"]}], <- Line 1\n",
    "#   [{...}, {...}], <- Line 2\n",
    "#   [{...}, {...}], <- Line 3\n",
    "# ]\n",
    "# \n",
    "# \n",
    "# Also returns a list of line ids which correspond the the lines in the order that they occur \n",
    "# lines: [\"0\", \"1\", \"2\", ...]\n",
    "def read_ink(path):\n",
    "    tree = ET.parse(path)\n",
    "    root = tree.getroot()\n",
    "\n",
    "    traceView = root.find(\"traceView\")\n",
    "\n",
    "    traceView2 = traceView.findall(\"traceView\")\n",
    "\n",
    "    textBlockRoots = []\n",
    "\n",
    "    for t in traceView2:\n",
    "        annotation = t.find(\"annotation\")\n",
    "\n",
    "        if (annotation.text == \"Textblock\"):\n",
    "            textBlockRoots.append(t)\n",
    "\n",
    "    words_arr = []\n",
    "    \n",
    "    # Array of line tags\n",
    "    lines = []\n",
    "    curr_line = 0\n",
    "\n",
    "    for textBlock in textBlockRoots:\n",
    "        #For each textline\n",
    "        for textLine in textBlock.findall(\"traceView\"):\n",
    "            line_arr = []\n",
    "            string = textLine[1].text\n",
    "\n",
    "            lines.append(str(curr_line))\n",
    "            curr_line += 1\n",
    "\n",
    "            # For each word in the textline \n",
    "            for i in range(2, len(textLine)):\n",
    "                wordElement = textLine[i]\n",
    "                word = wordElement[1].text\n",
    "                \n",
    "                word_dict = {}\n",
    "\n",
    "                if word is not None:\n",
    "                    word_dict[\"word\"] = word\n",
    "                    word_dict[\"refs\"] = []\n",
    "\n",
    "                    refs = wordElement.findall('traceView')\n",
    "                \n",
    "                    for ref in refs:\n",
    "                        if 'traceDataRef' in ref.attrib:\n",
    "                            word_dict[\"refs\"].append(ref.attrib['traceDataRef'])\n",
    "\n",
    "                    line_arr.append(word_dict)\n",
    "\n",
    "            words_arr.append(line_arr)\n",
    "\n",
    "    assert(len(words_arr) == len(lines))                \n",
    "    return words_arr, lines\n",
    "    "
   ]
  },
  {
   "cell_type": "code",
   "execution_count": 46,
   "metadata": {},
   "outputs": [
    {
     "output_type": "execute_result",
     "data": {
      "text/plain": [
       "False"
      ]
     },
     "metadata": {},
     "execution_count": 46
    }
   ],
   "source": [
    "\"9\" < \"12\""
   ]
  },
  {
   "cell_type": "code",
   "execution_count": 43,
   "metadata": {},
   "outputs": [
    {
     "output_type": "stream",
     "name": "stdout",
     "text": [
      "../data/datasets/001f.inkml\nAnd he had a feeling - thanks to the \ngirl - that things would get worse \nbefore they got better . They had the \nhouse cleaned up by noon , and Wilson \nsent the boy out to the meadow to \nbring in the horses . \n\n../data/datasets/001g.inkml\nAnd he had a feeling - \nthanks to the girl - \nthat things would get worse \nbefore they got better . \nThey had the house cleaned \nby noon , and Wilson sent the \nboy out to the meadow to \nbring in the horses . \n\n../data/datasets/001.inkml\nAnd he had a feeling - thanks to the girl - \nthat things would get worse before they got \nbetter . \nThey had the house \ncleaned up by noon , \nand Wilson sent \nthe boy out to the meadow to bring in the \nhorses . \nHe stoat on the porch \nand watched him struggling \nwith the heavy harness , \nand finally went over to help him . \n\n../data/datasets/001e.inkml\nAnd he had a feeling - thanks to the girl - \nthat things would get worse before \nthey got better . They had the house \ncleaned up by noon , and Wilson sent \nthe boy out to the meadow to \nbring in the horses \n\n../data/datasets/001a.inkml\nAnd he had a \nfeeling - thanks \nto the girl . - \nthat things would get worse before \nthey got better \nThey had the house \ncleaned up by noon , \nand Wilson sent the boy out to the \nmeadow to bring in \nthe horses . \n\n../data/datasets/001b.inkml\nAnd he had a feeling - thanks to the girl - that things would \nget worse before they get better . They they had the house cleaned \nup by noon , and Wilson sent the boy out to the meadow \nto bring in the horses \n\n../data/datasets/001c.inkml\nAnd he had a feeling - thanks to the girl - \nthat things would get worse before they got better . \nThey had the \nhouse cleaned up by \nnoon , and Wilson sent \nthe boy out to the \nmeadow to being in \nthe horses . \n\n../data/datasets/001d.inkml\nAnd he had a feeling - - thanks to the girl - - that things would \nget worse before they got better . They had the house cleaned \nup by noon , and Wilson sent the boy out to the meadow \nto bring in the horses . \n\n"
     ]
    }
   ],
   "source": [
    "for f in glob.glob(\"../data/datasets/*1*.inkml\"):\n",
    "    print(f)\n",
    "\n",
    "    textLines, lines = read_ink(f)\n",
    "\n",
    "    for textLine in textLines:\n",
    "        for word_dict in textLine:\n",
    "            print(word_dict[\"word\"], end=\" \")\n",
    "        print()\n",
    "    print()\n"
   ]
  },
  {
   "cell_type": "code",
   "execution_count": 26,
   "id": "08601154-286d-4aaa-81c5-abf4ea2dc9fc",
   "metadata": {
    "tags": []
   },
   "outputs": [],
   "source": [
    "# Returns a dict that maps ref id -> digital ink time series\n",
    "def get_digital_ink(path):\n",
    "    tree = ET.parse(path)\n",
    "    root = tree.getroot()\n",
    "    traces = root.findall(\"trace\")\n",
    "\n",
    "    digital_ink_dict = {}\n",
    "\n",
    "\n",
    "    for trace in traces:\n",
    "        digital_ink_dict[trace.attrib['{http://www.w3.org/XML/1998/namespace}id']] = trace.text\n",
    "\n",
    "    return digital_ink_dict"
   ]
  },
  {
   "cell_type": "code",
   "execution_count": 27,
   "metadata": {},
   "outputs": [],
   "source": [
    "def add_value(series, v):\n",
    "    series.append(series[len(series) - 1] + v)\n",
    "\n",
    "def add_initial_point(data, x, y, t, p):\n",
    "    starting_data = data.split(\" \")\n",
    "\n",
    "    start_x = float(starting_data[0])\n",
    "    start_y = float(starting_data[1])\n",
    "    start_t = float(starting_data[2])\n",
    "    start_p = float(starting_data[3])\n",
    "\n",
    "    x.append(start_x)\n",
    "    y.append(start_y)\n",
    "    t.append(start_t)\n",
    "    p.append(start_p)"
   ]
  },
  {
   "cell_type": "code",
   "execution_count": 28,
   "metadata": {},
   "outputs": [],
   "source": [
    "# Converts a time series of v,v',v\" into a time series of purely v values \n",
    "# Basically converts first and second derivatives into normal points\n",
    "def construct_time_series(raw_time_series):\n",
    "    raw_time_series = raw_time_series.strip()\n",
    "    points = raw_time_series.split(\",\")\n",
    "\n",
    "    x, y, t, p = [], [], [], []\n",
    "    \n",
    "    # Starting data\n",
    "    if len(points) >= 1:\n",
    "        add_initial_point(points[0], x, y, t, p)\n",
    "\n",
    "    # 2nd set of data (1st derivative)\n",
    "    if len(points) >= 2:\n",
    "        trace_v = points[1].split(\"\\'\")\n",
    "\n",
    "        v_x = float(trace_v[1])\n",
    "        v_y = float(trace_v[2])\n",
    "        v_t = float(trace_v[3])\n",
    "        v_p = float(trace_v[4])\n",
    "\n",
    "        add_value(x, v_x)\n",
    "        add_value(y, v_y)\n",
    "        add_value(t, v_t)\n",
    "        add_value(p, v_p)\n",
    "\n",
    "    # 3rd set of data (2nd derivative)\n",
    "    if len(points) >= 3:\n",
    "        trace_acc = points[2].split(\"\\\"\")\n",
    "\n",
    "        v_x += float(trace_acc[1])\n",
    "        v_y += float(trace_acc[2])\n",
    "        v_t += float(trace_acc[3])\n",
    "        v_p += float(trace_acc[4]) \n",
    "\n",
    "        add_value(x, v_x)\n",
    "        add_value(y, v_y)\n",
    "        add_value(t, v_t)\n",
    "        add_value(p, v_p)\n",
    "\n",
    "    # for all other sets of data \n",
    "    for i in range(3, len(points)):\n",
    "        values = re.findall(\"-?\\d*\\.?\\d+\", points[i])\n",
    "\n",
    "        v_x += float(values[0])\n",
    "        v_y += float(values[1])\n",
    "        v_t += float(values[2])\n",
    "        v_p += float(values[3])\n",
    "\n",
    "        add_value(x, v_x)\n",
    "        add_value(y, v_y)\n",
    "        add_value(t, v_t)\n",
    "        add_value(p, v_p)\n",
    "\n",
    "    return x, y, t, p  "
   ]
  },
  {
   "cell_type": "code",
   "execution_count": 29,
   "metadata": {},
   "outputs": [],
   "source": [
    "# Fill time gaps for 1D array with time dimensions as shown below\n",
    "def get_time_gaps(t):\n",
    "    time_gaps = np.diff(t)\n",
    "\n",
    "    start_t = t[0]\n",
    "    end_t = t[len(t) - 1]\n",
    "\n",
    "    t_filled = []\n",
    "    t_filled.append(start_t)\n",
    "    \n",
    "    for i in range(0, len(time_gaps)):\n",
    "        time_gap = time_gaps[i]\n",
    "        num_intervals = round(time_gap / 0.013)\n",
    "\n",
    "        if (num_intervals == 0):\n",
    "            raise Exception(\"Num Intervals cannot be 0\")\n",
    "\n",
    "        curr_time = t[i]\n",
    "        next_time = t[i+1]\n",
    "\n",
    "        if num_intervals != 1:\n",
    "            for i in range(1, num_intervals):\n",
    "                t_filled.append(curr_time + 0.013 * i)\n",
    "        \n",
    "        t_filled.append(next_time)\n",
    "\n",
    "    return t_filled        "
   ]
  },
  {
   "cell_type": "code",
   "execution_count": 30,
   "metadata": {},
   "outputs": [],
   "source": [
    "words_arr = read_ink(\"../data/datasets/001e.inkml\")"
   ]
  },
  {
   "cell_type": "code",
   "execution_count": 31,
   "metadata": {},
   "outputs": [],
   "source": [
    "ref_dict = get_digital_ink(\"../data/datasets/001.inkml\")"
   ]
  },
  {
   "cell_type": "code",
   "execution_count": 35,
   "metadata": {},
   "outputs": [
    {
     "output_type": "display_data",
     "data": {
      "text/plain": "<Figure size 432x288 with 1 Axes>",
      "image/svg+xml": "<?xml version=\"1.0\" encoding=\"utf-8\" standalone=\"no\"?>\n<!DOCTYPE svg PUBLIC \"-//W3C//DTD SVG 1.1//EN\"\n  \"http://www.w3.org/Graphics/SVG/1.1/DTD/svg11.dtd\">\n<!-- Created with matplotlib (https://matplotlib.org/) -->\n<svg height=\"252.012562pt\" version=\"1.1\" viewBox=\"0 0 375.2875 252.012562\" width=\"375.2875pt\" xmlns=\"http://www.w3.org/2000/svg\" xmlns:xlink=\"http://www.w3.org/1999/xlink\">\n <metadata>\n  <rdf:RDF xmlns:cc=\"http://creativecommons.org/ns#\" xmlns:dc=\"http://purl.org/dc/elements/1.1/\" xmlns:rdf=\"http://www.w3.org/1999/02/22-rdf-syntax-ns#\">\n   <cc:Work>\n    <dc:type rdf:resource=\"http://purl.org/dc/dcmitype/StillImage\"/>\n    <dc:date>2021-07-21T18:03:42.102568</dc:date>\n    <dc:format>image/svg+xml</dc:format>\n    <dc:creator>\n     <cc:Agent>\n      <dc:title>Matplotlib v3.3.3, https://matplotlib.org/</dc:title>\n     </cc:Agent>\n    </dc:creator>\n   </cc:Work>\n  </rdf:RDF>\n </metadata>\n <defs>\n  <style type=\"text/css\">*{stroke-linecap:butt;stroke-linejoin:round;}</style>\n </defs>\n <g id=\"figure_1\">\n  <g id=\"patch_1\">\n   <path d=\"M 0 252.012562 \nL 375.2875 252.012562 \nL 375.2875 0 \nL 0 0 \nz\n\" style=\"fill:none;\"/>\n  </g>\n  <g id=\"axes_1\">\n   <g id=\"patch_2\">\n    <path d=\"M 33.2875 228.134437 \nL 368.0875 228.134437 \nL 368.0875 10.694437 \nL 33.2875 10.694437 \nz\n\" style=\"fill:#ffffff;\"/>\n   </g>\n   <g id=\"matplotlib.axis_1\">\n    <g id=\"xtick_1\">\n     <g id=\"line2d_1\">\n      <defs>\n       <path d=\"M 0 0 \nL 0 3.5 \n\" id=\"me5631dc3f4\" style=\"stroke:#000000;stroke-width:0.8;\"/>\n      </defs>\n      <g>\n       <use style=\"stroke:#000000;stroke-width:0.8;\" x=\"342.289833\" xlink:href=\"#me5631dc3f4\" y=\"228.134437\"/>\n      </g>\n     </g>\n     <g id=\"text_1\">\n      <!-- 610 -->\n      <g transform=\"translate(332.746083 242.732875)scale(0.1 -0.1)\">\n       <defs>\n        <path d=\"M 33.015625 40.375 \nQ 26.375 40.375 22.484375 35.828125 \nQ 18.609375 31.296875 18.609375 23.390625 \nQ 18.609375 15.53125 22.484375 10.953125 \nQ 26.375 6.390625 33.015625 6.390625 \nQ 39.65625 6.390625 43.53125 10.953125 \nQ 47.40625 15.53125 47.40625 23.390625 \nQ 47.40625 31.296875 43.53125 35.828125 \nQ 39.65625 40.375 33.015625 40.375 \nz\nM 52.59375 71.296875 \nL 52.59375 62.3125 \nQ 48.875 64.0625 45.09375 64.984375 \nQ 41.3125 65.921875 37.59375 65.921875 \nQ 27.828125 65.921875 22.671875 59.328125 \nQ 17.53125 52.734375 16.796875 39.40625 \nQ 19.671875 43.65625 24.015625 45.921875 \nQ 28.375 48.1875 33.59375 48.1875 \nQ 44.578125 48.1875 50.953125 41.515625 \nQ 57.328125 34.859375 57.328125 23.390625 \nQ 57.328125 12.15625 50.6875 5.359375 \nQ 44.046875 -1.421875 33.015625 -1.421875 \nQ 20.359375 -1.421875 13.671875 8.265625 \nQ 6.984375 17.96875 6.984375 36.375 \nQ 6.984375 53.65625 15.1875 63.9375 \nQ 23.390625 74.21875 37.203125 74.21875 \nQ 40.921875 74.21875 44.703125 73.484375 \nQ 48.484375 72.75 52.59375 71.296875 \nz\n\" id=\"DejaVuSans-54\"/>\n        <path d=\"M 12.40625 8.296875 \nL 28.515625 8.296875 \nL 28.515625 63.921875 \nL 10.984375 60.40625 \nL 10.984375 69.390625 \nL 28.421875 72.90625 \nL 38.28125 72.90625 \nL 38.28125 8.296875 \nL 54.390625 8.296875 \nL 54.390625 0 \nL 12.40625 0 \nz\n\" id=\"DejaVuSans-49\"/>\n        <path d=\"M 31.78125 66.40625 \nQ 24.171875 66.40625 20.328125 58.90625 \nQ 16.5 51.421875 16.5 36.375 \nQ 16.5 21.390625 20.328125 13.890625 \nQ 24.171875 6.390625 31.78125 6.390625 \nQ 39.453125 6.390625 43.28125 13.890625 \nQ 47.125 21.390625 47.125 36.375 \nQ 47.125 51.421875 43.28125 58.90625 \nQ 39.453125 66.40625 31.78125 66.40625 \nz\nM 31.78125 74.21875 \nQ 44.046875 74.21875 50.515625 64.515625 \nQ 56.984375 54.828125 56.984375 36.375 \nQ 56.984375 17.96875 50.515625 8.265625 \nQ 44.046875 -1.421875 31.78125 -1.421875 \nQ 19.53125 -1.421875 13.0625 8.265625 \nQ 6.59375 17.96875 6.59375 36.375 \nQ 6.59375 54.828125 13.0625 64.515625 \nQ 19.53125 74.21875 31.78125 74.21875 \nz\n\" id=\"DejaVuSans-48\"/>\n       </defs>\n       <use xlink:href=\"#DejaVuSans-54\"/>\n       <use x=\"63.623047\" xlink:href=\"#DejaVuSans-49\"/>\n       <use x=\"127.246094\" xlink:href=\"#DejaVuSans-48\"/>\n      </g>\n     </g>\n    </g>\n    <g id=\"xtick_2\">\n     <g id=\"line2d_2\">\n      <g>\n       <use style=\"stroke:#000000;stroke-width:0.8;\" x=\"277.185312\" xlink:href=\"#me5631dc3f4\" y=\"228.134437\"/>\n      </g>\n     </g>\n     <g id=\"text_2\">\n      <!-- 620 -->\n      <g transform=\"translate(267.641562 242.732875)scale(0.1 -0.1)\">\n       <defs>\n        <path d=\"M 19.1875 8.296875 \nL 53.609375 8.296875 \nL 53.609375 0 \nL 7.328125 0 \nL 7.328125 8.296875 \nQ 12.9375 14.109375 22.625 23.890625 \nQ 32.328125 33.6875 34.8125 36.53125 \nQ 39.546875 41.84375 41.421875 45.53125 \nQ 43.3125 49.21875 43.3125 52.78125 \nQ 43.3125 58.59375 39.234375 62.25 \nQ 35.15625 65.921875 28.609375 65.921875 \nQ 23.96875 65.921875 18.8125 64.3125 \nQ 13.671875 62.703125 7.8125 59.421875 \nL 7.8125 69.390625 \nQ 13.765625 71.78125 18.9375 73 \nQ 24.125 74.21875 28.421875 74.21875 \nQ 39.75 74.21875 46.484375 68.546875 \nQ 53.21875 62.890625 53.21875 53.421875 \nQ 53.21875 48.921875 51.53125 44.890625 \nQ 49.859375 40.875 45.40625 35.40625 \nQ 44.1875 33.984375 37.640625 27.21875 \nQ 31.109375 20.453125 19.1875 8.296875 \nz\n\" id=\"DejaVuSans-50\"/>\n       </defs>\n       <use xlink:href=\"#DejaVuSans-54\"/>\n       <use x=\"63.623047\" xlink:href=\"#DejaVuSans-50\"/>\n       <use x=\"127.246094\" xlink:href=\"#DejaVuSans-48\"/>\n      </g>\n     </g>\n    </g>\n    <g id=\"xtick_3\">\n     <g id=\"line2d_3\">\n      <g>\n       <use style=\"stroke:#000000;stroke-width:0.8;\" x=\"212.080791\" xlink:href=\"#me5631dc3f4\" y=\"228.134437\"/>\n      </g>\n     </g>\n     <g id=\"text_3\">\n      <!-- 630 -->\n      <g transform=\"translate(202.537041 242.732875)scale(0.1 -0.1)\">\n       <defs>\n        <path d=\"M 40.578125 39.3125 \nQ 47.65625 37.796875 51.625 33 \nQ 55.609375 28.21875 55.609375 21.1875 \nQ 55.609375 10.40625 48.1875 4.484375 \nQ 40.765625 -1.421875 27.09375 -1.421875 \nQ 22.515625 -1.421875 17.65625 -0.515625 \nQ 12.796875 0.390625 7.625 2.203125 \nL 7.625 11.71875 \nQ 11.71875 9.328125 16.59375 8.109375 \nQ 21.484375 6.890625 26.8125 6.890625 \nQ 36.078125 6.890625 40.9375 10.546875 \nQ 45.796875 14.203125 45.796875 21.1875 \nQ 45.796875 27.640625 41.28125 31.265625 \nQ 36.765625 34.90625 28.71875 34.90625 \nL 20.21875 34.90625 \nL 20.21875 43.015625 \nL 29.109375 43.015625 \nQ 36.375 43.015625 40.234375 45.921875 \nQ 44.09375 48.828125 44.09375 54.296875 \nQ 44.09375 59.90625 40.109375 62.90625 \nQ 36.140625 65.921875 28.71875 65.921875 \nQ 24.65625 65.921875 20.015625 65.03125 \nQ 15.375 64.15625 9.8125 62.3125 \nL 9.8125 71.09375 \nQ 15.4375 72.65625 20.34375 73.4375 \nQ 25.25 74.21875 29.59375 74.21875 \nQ 40.828125 74.21875 47.359375 69.109375 \nQ 53.90625 64.015625 53.90625 55.328125 \nQ 53.90625 49.265625 50.4375 45.09375 \nQ 46.96875 40.921875 40.578125 39.3125 \nz\n\" id=\"DejaVuSans-51\"/>\n       </defs>\n       <use xlink:href=\"#DejaVuSans-54\"/>\n       <use x=\"63.623047\" xlink:href=\"#DejaVuSans-51\"/>\n       <use x=\"127.246094\" xlink:href=\"#DejaVuSans-48\"/>\n      </g>\n     </g>\n    </g>\n    <g id=\"xtick_4\">\n     <g id=\"line2d_4\">\n      <g>\n       <use style=\"stroke:#000000;stroke-width:0.8;\" x=\"146.97627\" xlink:href=\"#me5631dc3f4\" y=\"228.134437\"/>\n      </g>\n     </g>\n     <g id=\"text_4\">\n      <!-- 640 -->\n      <g transform=\"translate(137.43252 242.732875)scale(0.1 -0.1)\">\n       <defs>\n        <path d=\"M 37.796875 64.3125 \nL 12.890625 25.390625 \nL 37.796875 25.390625 \nz\nM 35.203125 72.90625 \nL 47.609375 72.90625 \nL 47.609375 25.390625 \nL 58.015625 25.390625 \nL 58.015625 17.1875 \nL 47.609375 17.1875 \nL 47.609375 0 \nL 37.796875 0 \nL 37.796875 17.1875 \nL 4.890625 17.1875 \nL 4.890625 26.703125 \nz\n\" id=\"DejaVuSans-52\"/>\n       </defs>\n       <use xlink:href=\"#DejaVuSans-54\"/>\n       <use x=\"63.623047\" xlink:href=\"#DejaVuSans-52\"/>\n       <use x=\"127.246094\" xlink:href=\"#DejaVuSans-48\"/>\n      </g>\n     </g>\n    </g>\n    <g id=\"xtick_5\">\n     <g id=\"line2d_5\">\n      <g>\n       <use style=\"stroke:#000000;stroke-width:0.8;\" x=\"81.871749\" xlink:href=\"#me5631dc3f4\" y=\"228.134437\"/>\n      </g>\n     </g>\n     <g id=\"text_5\">\n      <!-- 650 -->\n      <g transform=\"translate(72.327999 242.732875)scale(0.1 -0.1)\">\n       <defs>\n        <path d=\"M 10.796875 72.90625 \nL 49.515625 72.90625 \nL 49.515625 64.59375 \nL 19.828125 64.59375 \nL 19.828125 46.734375 \nQ 21.96875 47.46875 24.109375 47.828125 \nQ 26.265625 48.1875 28.421875 48.1875 \nQ 40.625 48.1875 47.75 41.5 \nQ 54.890625 34.8125 54.890625 23.390625 \nQ 54.890625 11.625 47.5625 5.09375 \nQ 40.234375 -1.421875 26.90625 -1.421875 \nQ 22.3125 -1.421875 17.546875 -0.640625 \nQ 12.796875 0.140625 7.71875 1.703125 \nL 7.71875 11.625 \nQ 12.109375 9.234375 16.796875 8.0625 \nQ 21.484375 6.890625 26.703125 6.890625 \nQ 35.15625 6.890625 40.078125 11.328125 \nQ 45.015625 15.765625 45.015625 23.390625 \nQ 45.015625 31 40.078125 35.4375 \nQ 35.15625 39.890625 26.703125 39.890625 \nQ 22.75 39.890625 18.8125 39.015625 \nQ 14.890625 38.140625 10.796875 36.28125 \nz\n\" id=\"DejaVuSans-53\"/>\n       </defs>\n       <use xlink:href=\"#DejaVuSans-54\"/>\n       <use x=\"63.623047\" xlink:href=\"#DejaVuSans-53\"/>\n       <use x=\"127.246094\" xlink:href=\"#DejaVuSans-48\"/>\n      </g>\n     </g>\n    </g>\n   </g>\n   <g id=\"matplotlib.axis_2\">\n    <g id=\"ytick_1\">\n     <g id=\"line2d_6\">\n      <defs>\n       <path d=\"M 0 0 \nL -3.5 0 \n\" id=\"m64f743f878\" style=\"stroke:#000000;stroke-width:0.8;\"/>\n      </defs>\n      <g>\n       <use style=\"stroke:#000000;stroke-width:0.8;\" x=\"33.2875\" xlink:href=\"#m64f743f878\" y=\"219.992411\"/>\n      </g>\n     </g>\n     <g id=\"text_6\">\n      <!-- 925 -->\n      <g transform=\"translate(7.2 223.791629)scale(0.1 -0.1)\">\n       <defs>\n        <path d=\"M 10.984375 1.515625 \nL 10.984375 10.5 \nQ 14.703125 8.734375 18.5 7.8125 \nQ 22.3125 6.890625 25.984375 6.890625 \nQ 35.75 6.890625 40.890625 13.453125 \nQ 46.046875 20.015625 46.78125 33.40625 \nQ 43.953125 29.203125 39.59375 26.953125 \nQ 35.25 24.703125 29.984375 24.703125 \nQ 19.046875 24.703125 12.671875 31.3125 \nQ 6.296875 37.9375 6.296875 49.421875 \nQ 6.296875 60.640625 12.9375 67.421875 \nQ 19.578125 74.21875 30.609375 74.21875 \nQ 43.265625 74.21875 49.921875 64.515625 \nQ 56.59375 54.828125 56.59375 36.375 \nQ 56.59375 19.140625 48.40625 8.859375 \nQ 40.234375 -1.421875 26.421875 -1.421875 \nQ 22.703125 -1.421875 18.890625 -0.6875 \nQ 15.09375 0.046875 10.984375 1.515625 \nz\nM 30.609375 32.421875 \nQ 37.25 32.421875 41.125 36.953125 \nQ 45.015625 41.5 45.015625 49.421875 \nQ 45.015625 57.28125 41.125 61.84375 \nQ 37.25 66.40625 30.609375 66.40625 \nQ 23.96875 66.40625 20.09375 61.84375 \nQ 16.21875 57.28125 16.21875 49.421875 \nQ 16.21875 41.5 20.09375 36.953125 \nQ 23.96875 32.421875 30.609375 32.421875 \nz\n\" id=\"DejaVuSans-57\"/>\n       </defs>\n       <use xlink:href=\"#DejaVuSans-57\"/>\n       <use x=\"63.623047\" xlink:href=\"#DejaVuSans-50\"/>\n       <use x=\"127.246094\" xlink:href=\"#DejaVuSans-53\"/>\n      </g>\n     </g>\n    </g>\n    <g id=\"ytick_2\">\n     <g id=\"line2d_7\">\n      <g>\n       <use style=\"stroke:#000000;stroke-width:0.8;\" x=\"33.2875\" xlink:href=\"#m64f743f878\" y=\"185.160212\"/>\n      </g>\n     </g>\n     <g id=\"text_7\">\n      <!-- 930 -->\n      <g transform=\"translate(7.2 188.959431)scale(0.1 -0.1)\">\n       <use xlink:href=\"#DejaVuSans-57\"/>\n       <use x=\"63.623047\" xlink:href=\"#DejaVuSans-51\"/>\n       <use x=\"127.246094\" xlink:href=\"#DejaVuSans-48\"/>\n      </g>\n     </g>\n    </g>\n    <g id=\"ytick_3\">\n     <g id=\"line2d_8\">\n      <g>\n       <use style=\"stroke:#000000;stroke-width:0.8;\" x=\"33.2875\" xlink:href=\"#m64f743f878\" y=\"150.328013\"/>\n      </g>\n     </g>\n     <g id=\"text_8\">\n      <!-- 935 -->\n      <g transform=\"translate(7.2 154.127232)scale(0.1 -0.1)\">\n       <use xlink:href=\"#DejaVuSans-57\"/>\n       <use x=\"63.623047\" xlink:href=\"#DejaVuSans-51\"/>\n       <use x=\"127.246094\" xlink:href=\"#DejaVuSans-53\"/>\n      </g>\n     </g>\n    </g>\n    <g id=\"ytick_4\">\n     <g id=\"line2d_9\">\n      <g>\n       <use style=\"stroke:#000000;stroke-width:0.8;\" x=\"33.2875\" xlink:href=\"#m64f743f878\" y=\"115.495815\"/>\n      </g>\n     </g>\n     <g id=\"text_9\">\n      <!-- 940 -->\n      <g transform=\"translate(7.2 119.295033)scale(0.1 -0.1)\">\n       <use xlink:href=\"#DejaVuSans-57\"/>\n       <use x=\"63.623047\" xlink:href=\"#DejaVuSans-52\"/>\n       <use x=\"127.246094\" xlink:href=\"#DejaVuSans-48\"/>\n      </g>\n     </g>\n    </g>\n    <g id=\"ytick_5\">\n     <g id=\"line2d_10\">\n      <g>\n       <use style=\"stroke:#000000;stroke-width:0.8;\" x=\"33.2875\" xlink:href=\"#m64f743f878\" y=\"80.663616\"/>\n      </g>\n     </g>\n     <g id=\"text_10\">\n      <!-- 945 -->\n      <g transform=\"translate(7.2 84.462835)scale(0.1 -0.1)\">\n       <use xlink:href=\"#DejaVuSans-57\"/>\n       <use x=\"63.623047\" xlink:href=\"#DejaVuSans-52\"/>\n       <use x=\"127.246094\" xlink:href=\"#DejaVuSans-53\"/>\n      </g>\n     </g>\n    </g>\n    <g id=\"ytick_6\">\n     <g id=\"line2d_11\">\n      <g>\n       <use style=\"stroke:#000000;stroke-width:0.8;\" x=\"33.2875\" xlink:href=\"#m64f743f878\" y=\"45.831417\"/>\n      </g>\n     </g>\n     <g id=\"text_11\">\n      <!-- 950 -->\n      <g transform=\"translate(7.2 49.630636)scale(0.1 -0.1)\">\n       <use xlink:href=\"#DejaVuSans-57\"/>\n       <use x=\"63.623047\" xlink:href=\"#DejaVuSans-53\"/>\n       <use x=\"127.246094\" xlink:href=\"#DejaVuSans-48\"/>\n      </g>\n     </g>\n    </g>\n    <g id=\"ytick_7\">\n     <g id=\"line2d_12\">\n      <g>\n       <use style=\"stroke:#000000;stroke-width:0.8;\" x=\"33.2875\" xlink:href=\"#m64f743f878\" y=\"10.999219\"/>\n      </g>\n     </g>\n     <g id=\"text_12\">\n      <!-- 955 -->\n      <g transform=\"translate(7.2 14.798437)scale(0.1 -0.1)\">\n       <use xlink:href=\"#DejaVuSans-57\"/>\n       <use x=\"63.623047\" xlink:href=\"#DejaVuSans-53\"/>\n       <use x=\"127.246094\" xlink:href=\"#DejaVuSans-53\"/>\n      </g>\n     </g>\n    </g>\n   </g>\n   <g id=\"line2d_13\">\n    <path clip-path=\"url(#p9e8d0ab1e4)\" d=\"M 48.505682 206.930336 \nL 49.034657 207.49636 \nL 49.563632 208.062385 \nL 50.133295 208.671946 \nL 60.71278 199.963896 \nL 71.292264 191.255847 \nL 100.679802 158.552194 \nL 132.327753 123.333059 \nL 161.624787 85.017641 \nL 177.900918 54.539467 \nL 181.96995 42.7836 \nL 186.038983 31.027733 \nL 179.407052 49.106723 \nL 172.775122 67.185714 \nL 166.143192 85.264704 \nL 159.511262 103.343695 \nL 151.859109 124.203864 \nL 143.721044 160.777673 \nL 141.279624 187.772627 \nL 141.686528 201.705506 \nL 142.093431 215.638386 \nL 138.838205 218.250801 \n\" style=\"fill:none;stroke:#1f77b4;stroke-linecap:square;stroke-width:1.5;\"/>\n   </g>\n   <g id=\"line2d_14\">\n    <path clip-path=\"url(#p9e8d0ab1e4)\" d=\"M 72.106071 158.165258 \nL 67.223232 160.777673 \nL 68.398733 162.454783 \nL 69.664651 164.260893 \nL 79.837233 168.614918 \nL 90.009814 172.968942 \nL 105.291333 175.484608 \nL 121.748268 178.193772 \nL 142.907237 178.193772 \nL 156.741948 173.839747 \n\" style=\"fill:none;stroke:#ff7f0e;stroke-linecap:square;stroke-width:1.5;\"/>\n   </g>\n   <g id=\"line2d_15\">\n    <path clip-path=\"url(#p9e8d0ab1e4)\" d=\"M 192.549435 146.844793 \nL 191.735628 149.457208 \nL 189.140657 160.564095 \nL 186.545685 171.670981 \nL 183.950714 182.777867 \nL 181.156144 194.739067 \nL 180.372476 197.67401 \nL 179.528531 200.834701 \nL 185.347258 191.070783 \nL 191.165985 181.306864 \nL 196.984712 171.542946 \nL 202.80344 161.779027 \nL 208.622167 152.015108 \nL 215.336017 140.749159 \nL 217.055187 148.673498 \nL 218.774356 156.597838 \nL 220.493526 164.522178 \nL 222.212695 172.446518 \nL 223.931864 180.370857 \nL 225.915502 189.514237 \nL 232.425954 196.480676 \nL 238.936406 198.222286 \nL 252.771117 195.609872 \nL 269.047247 183.418602 \nL 281.977764 168.743886 \nL 295.902862 152.940428 \nL 300.785701 143.361574 \nL 301.599508 137.265939 \nL 298.344282 135.524329 \nL 292.647636 138.136744 \nL 282.459957 150.715072 \nL 271.488667 164.260893 \nL 266.002993 180.193442 \nL 260.095376 197.351481 \nL 259.281569 202.576311 \nL 263.983575 201.318478 \nL 269.047247 199.963896 \nL 289.39241 173.404345 \nL 309.737573 146.844793 \nL 328.455123 105.046155 \nL 343.10364 60.635102 \nL 347.805646 41.348332 \nL 352.869318 20.578073 \nL 349.207189 23.625891 \nL 345.54506 26.673708 \nL 335.779381 47.573027 \nL 325.6068 79.357409 \nL 315.434219 111.14179 \nL 310.732213 143.845443 \nL 305.66854 179.064577 \nL 308.10996 200.834701 \nL 315.434219 217.379996 \n\" style=\"fill:none;stroke:#2ca02c;stroke-linecap:square;stroke-width:1.5;\"/>\n   </g>\n   <g id=\"patch_3\">\n    <path d=\"M 33.2875 228.134437 \nL 33.2875 10.694437 \n\" style=\"fill:none;stroke:#000000;stroke-linecap:square;stroke-linejoin:miter;stroke-width:0.8;\"/>\n   </g>\n   <g id=\"patch_4\">\n    <path d=\"M 368.0875 228.134437 \nL 368.0875 10.694437 \n\" style=\"fill:none;stroke:#000000;stroke-linecap:square;stroke-linejoin:miter;stroke-width:0.8;\"/>\n   </g>\n   <g id=\"patch_5\">\n    <path d=\"M 33.2875 228.134437 \nL 368.0875 228.134437 \n\" style=\"fill:none;stroke:#000000;stroke-linecap:square;stroke-linejoin:miter;stroke-width:0.8;\"/>\n   </g>\n   <g id=\"patch_6\">\n    <path d=\"M 33.2875 10.694437 \nL 368.0875 10.694437 \n\" style=\"fill:none;stroke:#000000;stroke-linecap:square;stroke-linejoin:miter;stroke-width:0.8;\"/>\n   </g>\n  </g>\n </g>\n <defs>\n  <clipPath id=\"p9e8d0ab1e4\">\n   <rect height=\"217.44\" width=\"334.8\" x=\"33.2875\" y=\"10.694437\"/>\n  </clipPath>\n </defs>\n</svg>\n",
      "image/png": "[encoded data removed]"
     },
     "metadata": {
      "needs_background": "light"
     }
    }
   ],
   "source": [
    "x,y,t,p = construct_time_series(ref_dict['t0'].strip())\n",
    "t_filled = get_time_gaps(t)\n",
    "x_filled = np.interp(t_filled, t, x)\n",
    "y_filled = np.interp(t_filled, t, y)\n",
    "plt.plot(x_filled,y_filled)\n",
    "x,y,t,p = construct_time_series(ref_dict['t1'].strip())\n",
    "t_filled = get_time_gaps(t)\n",
    "x_filled = np.interp(t_filled, t, x)\n",
    "y_filled = np.interp(t_filled, t, y)\n",
    "plt.plot(x_filled,y_filled)\n",
    "x,y,t,p = construct_time_series(ref_dict['t2'].strip())\n",
    "t_filled = get_time_gaps(t)\n",
    "x_filled = np.interp(t_filled, t, x)\n",
    "y_filled = np.interp(t_filled, t, y)\n",
    "plt.plot(x_filled,y_filled)\n",
    "plt.gca().invert_xaxis()\n",
    "plt.show()"
   ]
  }
 ],
 "metadata": {
  "kernelspec": {
   "name": "python3",
   "display_name": "Python 3.8.5 64-bit"
  },
  "language_info": {
   "codemirror_mode": {
    "name": "ipython",
    "version": 3
   },
   "file_extension": ".py",
   "mimetype": "text/x-python",
   "name": "python",
   "nbconvert_exporter": "python",
   "pygments_lexer": "ipython3",
   "version": "3.8.5"
  },
  "interpreter": {
   "hash": "31f2aee4e71d21fbe5cf8b01ff0e069b9275f58929596ceb00d14d90e3e16cd6"
  }
 },
 "nbformat": 4,
 "nbformat_minor": 5
}