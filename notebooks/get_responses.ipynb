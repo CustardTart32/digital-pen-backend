{
 "cells": [
  {
   "cell_type": "code",
   "execution_count": 1,
   "metadata": {},
   "outputs": [],
   "source": [
    "import firebase_admin\n",
    "from firebase_admin import credentials\n",
    "from firebase_admin import firestore\n",
    "import glob\n",
    "import json\n",
    "\n",
    "json_file = glob.glob(\"*.json\")[0]\n",
    "\n",
    "cred = credentials.Certificate(json_file)\n",
    "firebase_admin.initialize_app(cred, {\n",
    "    'projectId': 'digital-pen-746a6',\n",
    "})\n",
    "\n",
    "db = firestore.client()"
   ]
  },
  {
   "cell_type": "code",
   "execution_count": 2,
   "metadata": {},
   "outputs": [
    {
     "name": "stdout",
     "output_type": "stream",
     "text": [
      "Saving 001\n",
      "Saving 001a\n",
      "Saving 001b\n",
      "Saving 001c\n",
      "Saving 001d\n",
      "Saving 001e\n",
      "Saving 001f\n",
      "Saving 001g\n"
     ]
    }
   ],
   "source": [
    "docs = db.collection(u'dataset_responses').stream()\n",
    "\n",
    "for doc in docs:\n",
    "    print(f'Saving {doc.id}')\n",
    "\n",
    "    save_target = \"../data/dataset_responses/\" + doc.id + \".json\"\n",
    "\n",
    "    with open(save_target, 'w') as fp:\n",
    "        json.dump(doc.to_dict(), fp)"
   ]
  },
  {
   "cell_type": "code",
   "execution_count": 3,
   "metadata": {},
   "outputs": [
    {
     "name": "stdout",
     "output_type": "stream",
     "text": [
      "Saving 2x7KWpGxDjsH40bJvsP7\n",
      "Saving 4DEx1UITVvHf7r8utD9Z\n",
      "Saving 8Z8Zk6qnS4S74FIpjs3l\n",
      "Saving 8e05bbCJrJlptvjGm1xa\n",
      "Saving L1l3xQZg4erNtCnqpgDX\n",
      "Saving PyPGAyhjuH5OleamLqs7\n",
      "Saving QVsCfGYE28LsGxDa1417\n",
      "Saving UJmJnIqlwsNEFfjKelTN\n",
      "Saving UpjeWjdH7HrpzNvAOnZE\n",
      "Saving eWYRgAeE4psads07EGIm\n",
      "Saving i7pJPDAihjRnN4VGZNKG\n",
      "Saving lbk43HuL5voOJI49qHRm\n",
      "Saving oIH1HmVVxrJVAXRbwjxk\n",
      "Saving pwzrwYnnyBRiJaBuWCvZ\n",
      "Saving wHbt2fWqZGeUgdc54FEG\n"
     ]
    }
   ],
   "source": [
    "docs = db.collection(u'user_responses').stream()\n",
    "\n",
    "for doc in docs:\n",
    "    print(f'Saving {doc.id}')\n",
    "\n",
    "    save_target = \"../data/user_responses/\" + doc.id + \".json\"\n",
    "\n",
    "    with open(save_target, 'w') as fp:\n",
    "        json.dump(doc.to_dict(), fp)"
   ]
  }
 ],
 "metadata": {
  "interpreter": {
   "hash": "83f38942cf46a3ef9427c452a2ff832c9204a5702ade476fac2e574c1064f3a2"
  },
  "kernelspec": {
   "display_name": "Python 3.9.5 64-bit ('thesis': conda)",
   "name": "python3"
  },
  "language_info": {
   "codemirror_mode": {
    "name": "ipython",
    "version": 3
   },
   "file_extension": ".py",
   "mimetype": "text/x-python",
   "name": "python",
   "nbconvert_exporter": "python",
   "pygments_lexer": "ipython3",
   "version": "3.9.5"
  },
  "orig_nbformat": 4
 },
 "nbformat": 4,
 "nbformat_minor": 2
}
