{
 "cells": [
  {
   "cell_type": "code",
   "execution_count": 3,
   "metadata": {},
   "outputs": [],
   "source": [
    "import firebase_admin\n",
    "from firebase_admin import credentials\n",
    "from firebase_admin import firestore\n",
    "import glob\n",
    "\n",
    "json_file = glob.glob(\"*.json\")[0]\n",
    "\n",
    "cred = credentials.Certificate(json_file)\n",
    "firebase_admin.initialize_app(cred, {\n",
    "    'projectId': 'digital-pen-746a6',\n",
    "})\n",
    "\n",
    "db = firestore.client()"
   ]
  },
  {
   "cell_type": "code",
   "execution_count": 5,
   "metadata": {},
   "outputs": [
    {
     "name": "stdout",
     "output_type": "stream",
     "text": [
      "['17GokPPdMsSiWm6MF7g6YRLNvlq2', '2B6dOroWTuXfzydlafMcJSURBtw2', '4VI8IcSjmbSb5WAxQfcc7ivYtX63', '7jSCN3faXfcnJBLsr8S74lYPwzV2', '9jnZbNewvmd19bPcZiVzGVgcDiG2', 'Asd71EykLrPKU5uUIEEHxODaVjg1', 'B1RY73r5z9TWRFQsAg5GYPVpFgY2', 'BbB1o6scfeP19WK6Up0XtA5E4qV2', 'Ebf3nWBisodNtxlx3uyifvKgtoq1', 'GVMz5yABFHQtVzo5jlUh2Vleqrm1', 'GZspkwLWQzWWg20IHnQf3OXvcK32', 'HIBUkWaE8yXdwtm2KfbUfg4GSwC3', 'HxHSMr726sXGx2UuFQBGxZVujvo1', 'JOLiEAhSQbfKb92EP3CxhjwN2wE3', 'LNlWFlXN07O6ZnnQqgZwGlnFoKJ3', 'LoA2kFmIsGNECTD894pvF1YIfUp2', 'NNX3bEf7kBhjikXv8QtjW24Jh9m2', 'OusmWrmCujRBUTzZJA6G5jH9fOG2', 'QO3hBFhZkJhskTmiVdiaUDbo0eE3', 'QYOQ2RcoNEa0g72MRWj4olzrRWq2', 'Qy0VtDlWEkdQ4PHwaava1QkQPTw1', 'ZKkReOtPovTbiN4rc7tY3kZTA0G2', 'ZoTM6p0JVLXxPymu5bbVhPqnDeH2', 'aRoaZsa9kBdjjTM50T3vI3Tndzm2', 'asLUh6usF0MqYsuWpQtVBvoQzrM2', 'b8OSMBENcUN5Ho5iUENSGabZve82', 'cwiEhpNU4IOf1M0wog5VLN7nZp53', 'd20g65BFaOf3yT0I7UhziL71eb03', 'dl50GatZbPYBbsVPz9e63ywQA7J3', 'eywaOgp8wdXhpprnWNDkWK9MgiD2', 'h6f5bSuWtvfJm7JQBptBGAtKu0R2', 'ihgBYwwmAqg0YQXgi0QJuBv1eER2', 'ikrgtcjupGZWZKQS3JGVGXffIoz1', 'jAiIJ7ThPQVNt3izho6dvjzq1TJ3', 'jy6onmZs6egaXXmjivG93f7jzAs2', 'q4Kupd5onYQkU5jwgIWGixzYSjB3', 'qMBRbsAaHSgNjRLHLf1VKbTm0gh1', 'sh7KrOLfg6MoktLEw8hhFz2Bdtp1', 'yJ0ELTkuZSZgVI2xiGjiSSrLu4F2', 'zGVAZCxhaqUnrf86D6ytB8VY7Ek1', 'zz7rLlAXE7XUN2Q0kVvmQHzYW2K3']\n"
     ]
    }
   ],
   "source": [
    "responses_ref = db.collection(\"dataset_responses\")\n",
    "\n",
    "for f in glob.glob(\"../data/datasets/*1*.inkml\"):\n",
    "    file_id = f.split(\"/\")[3].split(\".\")[0]\n",
    "\n",
    "    print(\"Initialising\", file_id)\n",
    "\n",
    "    doc_ref = responses_ref.document(file_id)\n",
    "\n",
    "    doc_ref.set({\n",
    "        'yea': 0, \n",
    "        'nay': 0,  \n",
    "        '1': 0, \n",
    "        '2': 0, \n",
    "        '3': 0, \n",
    "        '4': 0\n",
    "    })\n",
    "\n",
    "responses_ref.document(\"count\").set({\n",
    "    \"count\": 0\n",
    "})"
   ]
  }
 ],
 "metadata": {
  "interpreter": {
   "hash": "83f38942cf46a3ef9427c452a2ff832c9204a5702ade476fac2e574c1064f3a2"
  },
  "kernelspec": {
   "display_name": "Python 3.9.5 64-bit ('thesis': conda)",
   "name": "python3"
  },
  "language_info": {
   "codemirror_mode": {
    "name": "ipython",
    "version": 3
   },
   "file_extension": ".py",
   "mimetype": "text/x-python",
   "name": "python",
   "nbconvert_exporter": "python",
   "pygments_lexer": "ipython3",
   "version": "3.9.5"
  },
  "orig_nbformat": 4
 },
 "nbformat": 4,
 "nbformat_minor": 2
}
