{
 "cells": [
  {
   "cell_type": "code",
   "execution_count": 1,
   "metadata": {},
   "outputs": [],
   "source": [
    "import firebase_admin\n",
    "from firebase_admin import credentials\n",
    "from firebase_admin import firestore\n",
    "import glob\n",
    "\n",
    "json_file = glob.glob(\"*.json\")[0]\n",
    "\n",
    "cred = credentials.Certificate(json_file)\n",
    "firebase_admin.initialize_app(cred, {\n",
    "    'projectId': 'digital-pen-746a6',\n",
    "})\n",
    "\n",
    "db = firestore.client()"
   ]
  },
  {
   "cell_type": "code",
   "execution_count": 3,
   "metadata": {},
   "outputs": [
    {
     "name": "stdout",
     "output_type": "stream",
     "text": [
      "{'1': 2, 'yea': 1, '2': 3, '3': 4, '4': 5, 'nay': 6}\n"
     ]
    }
   ],
   "source": [
    "doc_ref = db.collection(\"user_responses\").document(\"test\")\n",
    "\n",
    "doc = doc_ref.get()\n",
    "data = {}\n",
    "if doc.exists:\n",
    "    data = doc.to_dict()\n",
    "    print(data)\n",
    "else:\n",
    "    print(u'No such document!')"
   ]
  },
  {
   "cell_type": "code",
   "execution_count": 4,
   "metadata": {},
   "outputs": [
    {
     "data": {
      "text/plain": [
       "update_time {\n",
       "  seconds: 1634879708\n",
       "  nanos: 544367000\n",
       "}"
      ]
     },
     "execution_count": 4,
     "metadata": {},
     "output_type": "execute_result"
    }
   ],
   "source": [
    "doc_ref.update({\n",
    "    'total_comparisons': data[\"yea\"] + data[\"nay\"], \n",
    "    'total_four_point':  data[\"1\"] + data[\"2\"] + data[\"3\"] + data[\"4\"]\n",
    "})"
   ]
  },
  {
   "cell_type": "code",
   "execution_count": 8,
   "metadata": {},
   "outputs": [],
   "source": [
    "docs = db.collection(\"dataset_responses\").stream() \n",
    "\n",
    "for doc in docs: \n",
    "    if doc.id != \"count\": \n",
    "        data = doc.to_dict()\n",
    "        \n",
    "        doc_ref = db.collection(\"dataset_responses\").document(doc.id)\n",
    "\n",
    "        doc_ref.update({\n",
    "            'total_comparisons': data[\"yea\"] + data[\"nay\"], \n",
    "            'total_four_point':  data[\"1\"] + data[\"2\"] + data[\"3\"] + data[\"4\"]\n",
    "        })"
   ]
  },
  {
   "cell_type": "code",
   "execution_count": 9,
   "metadata": {},
   "outputs": [],
   "source": [
    "docs = db.collection(\"user_responses\").stream() \n",
    "\n",
    "for doc in docs: \n",
    "    if doc.id != \"count\": \n",
    "        data = doc.to_dict()\n",
    "        \n",
    "        doc_ref = db.collection(\"user_responses\").document(doc.id)\n",
    "\n",
    "        doc_ref.update({\n",
    "            'total_comparisons': data[\"yea\"] + data[\"nay\"], \n",
    "            'total_four_point':  data[\"1\"] + data[\"2\"] + data[\"3\"] + data[\"4\"]\n",
    "        })"
   ]
  }
 ],
 "metadata": {
  "interpreter": {
   "hash": "83f38942cf46a3ef9427c452a2ff832c9204a5702ade476fac2e574c1064f3a2"
  },
  "kernelspec": {
   "display_name": "Python 3.9.5 64-bit ('thesis': conda)",
   "name": "python3"
  },
  "language_info": {
   "codemirror_mode": {
    "name": "ipython",
    "version": 3
   },
   "file_extension": ".py",
   "mimetype": "text/x-python",
   "name": "python",
   "nbconvert_exporter": "python",
   "pygments_lexer": "ipython3",
   "version": "3.9.5"
  },
  "orig_nbformat": 4
 },
 "nbformat": 4,
 "nbformat_minor": 2
}
