{
 "cells": [
  {
   "cell_type": "code",
   "execution_count": 1,
   "metadata": {},
   "outputs": [],
   "source": [
    "import firebase_admin\n",
    "from firebase_admin import credentials\n",
    "from firebase_admin import firestore\n",
    "import glob\n",
    "\n",
    "json_file = glob.glob(\"*.json\")[0]\n",
    "\n",
    "cred = credentials.Certificate(json_file)\n",
    "firebase_admin.initialize_app(cred, {\n",
    "    'projectId': 'digital-pen-746a6',\n",
    "})\n",
    "\n",
    "db = firestore.client()"
   ]
  },
  {
   "cell_type": "code",
   "execution_count": 2,
   "metadata": {},
   "outputs": [
    {
     "name": "stdout",
     "output_type": "stream",
     "text": [
      "8Z8Zk6qnS4S74FIpjs3l => {'total_comparisons': 14, '1': 0, 'total_four_point': 10, '3': 2, '2': 0, 'yea': 11, '4': 8, 'nay': 3}\n",
      "8e05bbCJrJlptvjGm1xa => {'nay': 9, 'yea': 8, '1': 0, 'total_four_point': 4, '2': 0, '4': 1, '3': 3, 'total_comparisons': 17}\n",
      "QVsCfGYE28LsGxDa1417 => {'4': 2, '1': 0, 'total_comparisons': 29, 'yea': 10, '2': 5, 'total_four_point': 17, 'nay': 19, '3': 10}\n",
      "UJmJnIqlwsNEFfjKelTN => {'yea': 2, '4': 1, 'total_four_point': 1, 'nay': 4, 'total_comparisons': 6, '3': 0, '2': 0, '1': 0}\n",
      "UpjeWjdH7HrpzNvAOnZE => {'1': 0, '4': 0, 'total_four_point': 0, '2': 0, '3': 0, 'nay': 0, 'yea': 0, 'total_comparisons': 0}\n",
      "eWYRgAeE4psads07EGIm => {'1': 0, 'yea': 18, '3': 0, 'total_comparisons': 26, '4': 10, 'total_four_point': 10, '2': 0, 'nay': 8}\n",
      "lbk43HuL5voOJI49qHRm => {'nay': 6, '3': 0, '4': 4, '2': 0, 'total_comparisons': 9, 'yea': 3, '1': 0, 'total_four_point': 4}\n",
      "oIH1HmVVxrJVAXRbwjxk => {'total_comparisons': 7, '2': 1, 'nay': 4, '3': 6, '1': 0, 'yea': 3, 'total_four_point': 8, '4': 1}\n"
     ]
    }
   ],
   "source": [
    "docs = db.collection(u'user_responses').stream()\n",
    "\n",
    "for doc in docs:\n",
    "    print(f'{doc.id} => {doc.to_dict()}')"
   ]
  }
 ],
 "metadata": {
  "interpreter": {
   "hash": "83f38942cf46a3ef9427c452a2ff832c9204a5702ade476fac2e574c1064f3a2"
  },
  "kernelspec": {
   "display_name": "Python 3.9.5 64-bit ('thesis': conda)",
   "name": "python3"
  },
  "language_info": {
   "codemirror_mode": {
    "name": "ipython",
    "version": 3
   },
   "file_extension": ".py",
   "mimetype": "text/x-python",
   "name": "python",
   "nbconvert_exporter": "python",
   "pygments_lexer": "ipython3",
   "version": "3.9.5"
  },
  "orig_nbformat": 4
 },
 "nbformat": 4,
 "nbformat_minor": 2
}
