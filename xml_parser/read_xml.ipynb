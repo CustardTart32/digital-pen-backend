{
 "cells": [
  {
   "cell_type": "code",
   "execution_count": 51,
   "id": "7e9c3ec5-3f8e-40df-abc9-cb8b52421491",
   "metadata": {},
   "outputs": [],
   "source": [
    "import xml.etree.ElementTree as ET\n",
    "import os\n",
    "import glob"
   ]
  },
  {
   "cell_type": "code",
   "execution_count": 18,
   "id": "727686d0-3f9b-49ee-acf9-595c7dbfcf0c",
   "metadata": {},
   "outputs": [],
   "source": [
    "# Get a list of words in the textblock along with its corresponding references\n",
    "# words_arr: a list of words in the text block \n",
    "# ref_arr: a list of refs which correspond the each word in words_arr\n",
    "def read_ink(path):\n",
    "    tree = ET.parse(path)\n",
    "    root = tree.getroot()\n",
    "\n",
    "    traceView = root.find(\"traceView\")\n",
    "\n",
    "    traceView2 = traceView.findall(\"traceView\")\n",
    "\n",
    "    textBlockRoots = []\n",
    "\n",
    "    for t in traceView2:\n",
    "        annotation = t.find(\"annotation\")\n",
    "\n",
    "        if (annotation.text == \"Textblock\"):\n",
    "            textBlockRoots.append(t)\n",
    "\n",
    "    words_arr = []\n",
    "    ref_arr = []\n",
    "\n",
    "    for textBlock in textBlockRoots:\n",
    "        for textLine in textBlock.findall(\"traceView\"):\n",
    "            string = textLine[1].text\n",
    "\n",
    "            for i in range(2, len(textLine)):\n",
    "                wordElement = textLine[i]\n",
    "                word = wordElement[1].text\n",
    "\n",
    "                if word is not None:\n",
    "                    words_arr.append(word)\n",
    "\n",
    "                    refs = wordElement.findall('traceView')\n",
    "                    \n",
    "                    ref_list = []\n",
    "                \n",
    "                for ref in refs:\n",
    "                    ref_list.append(ref.attrib['traceDataRef'])\n",
    "\n",
    "                ref_arr.append(ref_list)\n",
    "                    \n",
    "    return words_arr, ref_arr\n",
    "    "
   ]
  },
  {
   "cell_type": "code",
   "execution_count": 43,
   "id": "08601154-286d-4aaa-81c5-abf4ea2dc9fc",
   "metadata": {
    "tags": []
   },
   "outputs": [],
   "source": [
    "# Returns a dict that maps ref id -> digital ink time series\n",
    "def get_digital_ink(path):\n",
    "    tree = ET.parse(path)\n",
    "    root = tree.getroot()\n",
    "    traces = root.findall(\"trace\")\n",
    "\n",
    "    digital_ink_dict = {}\n",
    "\n",
    "\n",
    "    for trace in traces:\n",
    "        digital_ink_dict[trace.attrib['{http://www.w3.org/XML/1998/namespace}id']] = trace.text\n",
    "\n",
    "    return digital_ink_dict"
   ]
  },
  {
   "cell_type": "code",
   "execution_count": 41,
   "metadata": {},
   "outputs": [],
   "source": [
    "words_arr, ref_arr = read_ink(\"datasets/001e.inkml\")"
   ]
  },
  {
   "cell_type": "code",
   "execution_count": 42,
   "metadata": {},
   "outputs": [
    {
     "output_type": "stream",
     "name": "stdout",
     "text": [
      "['And', 'he', 'had', 'a', 'feeling', '-', 'thanks', 'to', 'the', 'girl', '-', 'that', 'things', 'would', 'get', 'worse', 'before', 'they', 'got', 'better', '.', 'They', 'had', 'the', 'house', 'cleaned', 'up', 'by', 'noon', ',', 'and', 'Wilson', 'sent', 'the', 'boy', 'out', 'to', 'the', 'meadow', 'to', 'bring', 'in', 'the', 'horses']\n"
     ]
    }
   ],
   "source": [
    "print(words_arr)"
   ]
  },
  {
   "cell_type": "code",
   "execution_count": 32,
   "metadata": {},
   "outputs": [
    {
     "output_type": "stream",
     "name": "stdout",
     "text": [
      "[['#t42', '#t43', '#t44', '#t45', '#t46', '#t47'], ['#t48'], ['#t49', '#t50', '#t51', '#t52'], ['#t53'], ['#t54', '#t55', '#t56', '#t57', '#t58', '#t59'], ['#t60'], ['#t61', '#t62', '#t63', '#t64', '#t65', '#t66', '#t67', '#t68'], ['#t69', '#t70'], ['#t71', '#t72', '#t73'], ['#t74', '#t75', '#t76', '#t77', '#t78'], ['#t79'], ['#t80', '#t81', '#t82', '#t83', '#t84', '#t85'], ['#t86', '#t87', '#t88', '#t89', '#t90', '#t91', '#t92'], ['#t93', '#t94', '#t95', '#t96', '#t97'], ['#t98', '#t99', '#t100'], ['#t101', '#t102', '#t103', '#t104'], ['#t105', '#t106'], ['#t107', '#t108', '#t109', '#t110', '#t111'], ['#t112', '#t113', '#t114'], ['#t115', '#t116'], ['#t117'], ['#t118', '#t119', '#t120', '#t121', '#t122'], ['#t123', '#t124', '#t125', '#t126'], ['#t127', '#t128', '#t129'], ['#t130', '#t131', '#t132', '#t133'], ['#t134', '#t135', '#t136', '#t137', '#t138', '#t139', '#t140'], ['#t141', '#t142'], ['#t143', '#t144', '#t145'], ['#t146', '#t147', '#t148', '#t149'], ['#t150'], ['#t151', '#t152', '#t153', '#t154'], ['#t155', '#t156', '#t157', '#t158', '#t159', '#t160', '#t161'], ['#t162', '#t163', '#t164', '#t165', '#t166'], ['#t167', '#t168', '#t169'], ['#t170', '#t171', '#t172', '#t173'], ['#t174', '#t175', '#t176', '#t177'], ['#t178', '#t179'], ['#t180', '#t181', '#t182'], ['#t183', '#t184', '#t185', '#t186', '#t187', '#t188'], ['#t189', '#t190'], ['#t191', '#t192', '#t193', '#t194'], ['#t195', '#t196', '#t197'], ['#t198', '#t199', '#t200'], ['#t201', '#t202', '#t203', '#t204', '#t205', '#t206']]\n"
     ]
    }
   ],
   "source": [
    "print(ref_arr)"
   ]
  },
  {
   "cell_type": "code",
   "execution_count": 55,
   "metadata": {},
   "outputs": [],
   "source": [
    "ref_dict = get_digital_ink(\"./datasets/001e.inkml\")"
   ]
  },
  {
   "cell_type": "code",
   "execution_count": 56,
   "metadata": {
    "tags": []
   },
   "outputs": [
    {
     "output_type": "stream",
     "name": "stdout",
     "text": [
      " 150.625 423.25 1233499039.688 0,'0'-.125'.026'94,\"-.125\"0\".014\"-76, .125 .125-.026-16, 0 0-.001 0, 0-.125 0-2, .25 .125 .041 2, 2 2.125 .106 0, 2.25 2.625-.067-2, 2.875 1.25 .04 0, 1.75 3.75 .067 0,-4-5.125-.026 0,-5.125-4.75-.148-4,-.25 .125-.012-10,-.25 .125-.001-88\n"
     ]
    }
   ],
   "source": [
    "print(ref_dict['t0'])"
   ]
  },
  {
   "cell_type": "code",
   "execution_count": 54,
   "id": "b81a4115-27a1-49ba-a52a-44446eb8501b",
   "metadata": {},
   "outputs": [
    {
     "output_type": "stream",
     "name": "stdout",
     "text": [
      "./datasets/007.inkml\n./datasets/001f.inkml\n./datasets/001g.inkml\n./datasets/001.inkml\n./datasets/001e.inkml\n./datasets/003.inkml\n./datasets/001a.inkml\n./datasets/002.inkml\n./datasets/001b.inkml\n./datasets/001c.inkml\n./datasets/008.inkml\n./datasets/009.inkml\n./datasets/005.inkml\n./datasets/001d.inkml\n./datasets/006.inkml\n"
     ]
    }
   ],
   "source": [
    "for filename in glob.glob(\"./datasets/*\"):\n",
    "    print(filename)"
   ]
  }
 ],
 "metadata": {
  "kernelspec": {
   "name": "python3",
   "display_name": "Python 3.8.5 64-bit"
  },
  "language_info": {
   "codemirror_mode": {
    "name": "ipython",
    "version": 3
   },
   "file_extension": ".py",
   "mimetype": "text/x-python",
   "name": "python",
   "nbconvert_exporter": "python",
   "pygments_lexer": "ipython3",
   "version": "3.8.5"
  },
  "interpreter": {
   "hash": "31f2aee4e71d21fbe5cf8b01ff0e069b9275f58929596ceb00d14d90e3e16cd6"
  }
 },
 "nbformat": 4,
 "nbformat_minor": 5
}